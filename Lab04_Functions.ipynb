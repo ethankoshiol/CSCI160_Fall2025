{
 "cells": [
  {
   "cell_type": "markdown",
   "id": "2e478e3b-79cc-4731-b58d-4ca398b9fcf1",
   "metadata": {},
   "source": [
    "# Functions"
   ]
  },
  {
   "cell_type": "markdown",
   "id": "68f7f7e6-18c9-4eb2-bebd-ffe0f281aac2",
   "metadata": {},
   "source": [
    "# Content Learning Objectives\n",
    "\n",
    "After completing this activity, students should be able to:\n",
    "\n",
    "* Explain the meaning and purpose of a function that does not return a value\n",
    "* Explain the meaning and purpose of a value returning function\n",
    "* Recognize a function definition, function header, and function call in a program\n",
    "* Explain programs that use the same function multiple times\n",
    "\n",
    "# Process Skill Goals\n",
    "\n",
    "* Write code that includes function definitions and functions calls\n",
    "* Write programs that incorporate functions and if/else statements"
   ]
  },
  {
   "cell_type": "markdown",
   "id": "18b0533f-ee25-49ab-9706-031eb595aa6f",
   "metadata": {},
   "source": [
    "# Part 1: Functions\n",
    "\n",
    "* A ***function*** is a segment of code that performs a single task\n",
    "* ***Functions*** allow for code reusability while saving space in your program\n",
    "\n",
    "Parts of a Function:\n",
    "\n",
    "* A ***function definition*** is the segment of code that creates the function and tells the program what to do when the function is called\n",
    "* The line that has the function definition is know as the ***function header***\n",
    "* A ***function call*** uses the function name outside of the function to direct Python to the function"
   ]
  },
  {
   "cell_type": "code",
   "execution_count": 3,
   "id": "83f460d3-ebcb-4cdd-97c1-e498c9476213",
   "metadata": {},
   "outputs": [
    {
     "name": "stdout",
     "output_type": "stream",
     "text": [
      "  (           )\n",
      " (             )\n",
      "(_______________)\n",
      " ///////////////\n",
      " /It is Raining/\n",
      " ///////////////\n",
      "  (           )\n",
      " (             )\n",
      "(_______________)\n",
      " ///////////////\n",
      " /It is Raining/\n",
      " ///////////////\n"
     ]
    }
   ],
   "source": [
    "def printRain(): #Function Definition\n",
    "#A function definition creates the function by specifying a function name\n",
    "\n",
    "    #Whatever the function does is indented just like if statements\n",
    "    #Function Body\n",
    "    print('  (           )')\n",
    "    print(' (             )')\n",
    "    print('(_______________)')\n",
    "    print(' ///////////////')\n",
    "    print(' /It is Raining/')\n",
    "    print(' ///////////////')\n",
    "\n",
    "\n",
    "\n",
    "def main(): #Function Definition\n",
    "\n",
    "    printRain() #Function Call\n",
    "    #This directs Python to the function to do whatever the function specifies\n",
    "    \n",
    "  \n",
    "main() #Function Call"
   ]
  },
  {
   "cell_type": "markdown",
   "id": "20fb74e5-c512-4407-8ca4-e30393547fff",
   "metadata": {},
   "source": [
    "Look at the code above and answer the questions below.\n",
    "\n",
    "1) What Python ***keyword*** is used to indicate that a code segment is a ***function definition***?"
   ]
  },
  {
   "cell_type": "markdown",
   "id": "afcbd533-2a28-4159-925a-7993787ca7ce",
   "metadata": {},
   "source": [
    "def"
   ]
  },
  {
   "cell_type": "markdown",
   "id": "2a4ae1f6-7872-4040-8c4d-4b5f90751dac",
   "metadata": {},
   "source": [
    "2) What are the two ***function headers*** in the Python code?"
   ]
  },
  {
   "cell_type": "markdown",
   "id": "7f0ad00c-888c-43b8-b7e8-a5fbd5be5377",
   "metadata": {},
   "source": [
    "def main(): and def printRain():"
   ]
  },
  {
   "cell_type": "markdown",
   "id": "937aa930-15a3-4384-9805-0ee10f164f85",
   "metadata": {},
   "source": [
    "3) The name of the functions are in the ***function headers***. What are the ***function names***?"
   ]
  },
  {
   "cell_type": "markdown",
   "id": "fee5fec4-f0cd-4fe0-85b8-2fb34d047f90",
   "metadata": {},
   "source": [
    "printRain"
   ]
  },
  {
   "cell_type": "markdown",
   "id": "dd4a891d-7d56-4486-a2bb-7c8bd245c8d1",
   "metadata": {},
   "source": [
    "4) Add the code to a new Python file and run it. What is the output?"
   ]
  },
  {
   "cell_type": "markdown",
   "id": "b4daab5d-e2da-43fd-b3b3-b9c720b89e59",
   "metadata": {},
   "source": [
    "  (           )\n",
    " (             )\n",
    "(_______________)\n",
    " ///////////////\n",
    " /It is Raining/\n",
    " ///////////////"
   ]
  },
  {
   "cell_type": "markdown",
   "id": "ecf998a5-81f8-40f1-a6d3-5265bce94519",
   "metadata": {},
   "source": [
    "5) What line of code would you add to print another cloud?"
   ]
  },
  {
   "cell_type": "markdown",
   "id": "ac11dd8f-b24a-4654-a79e-2199f62fecdd",
   "metadata": {},
   "source": [
    "under the first print rain"
   ]
  },
  {
   "cell_type": "markdown",
   "id": "f36b1dfe-138a-4b4f-9c01-d29f6167cb67",
   "metadata": {},
   "source": [
    "6) Where would you add the line?"
   ]
  },
  {
   "cell_type": "markdown",
   "id": "f94a04e9-83e0-4aff-b903-03a32c715128",
   "metadata": {},
   "source": [
    "the bottom of the code"
   ]
  },
  {
   "cell_type": "markdown",
   "id": "7ea40855-26f9-43df-a9be-265328047ac2",
   "metadata": {},
   "source": [
    "# Part 2: Functions with Arguments\n",
    "\n",
    "So far we have three parts of a function: function definition, function header, and function call. Now we'll be looking at ***function arguments/parameters***.\n",
    "\n",
    "***Function arguments/parameters*** allow for variables outside the scope of a function to be used in the function. \n",
    "\n",
    "Look at the functions below then answer the questions."
   ]
  },
  {
   "cell_type": "code",
   "execution_count": 9,
   "id": "eb141b45-d67d-4bf9-aa1f-b534f0a5a2cc",
   "metadata": {},
   "outputs": [
    {
     "name": "stdin",
     "output_type": "stream",
     "text": [
      "Enter a fahrenheit temperature:  5\n"
     ]
    },
    {
     "name": "stdout",
     "output_type": "stream",
     "text": [
      "-15.0 C\n"
     ]
    },
    {
     "name": "stdin",
     "output_type": "stream",
     "text": [
      "Enter a celsius temperature:  4\n"
     ]
    },
    {
     "name": "stdout",
     "output_type": "stream",
     "text": [
      "39.2 F\n"
     ]
    },
    {
     "name": "stdin",
     "output_type": "stream",
     "text": [
      "Enter the amount of feet:  3\n"
     ]
    },
    {
     "name": "stdout",
     "output_type": "stream",
     "text": [
      "0.0009143553794574825 Km\n"
     ]
    }
   ],
   "source": [
    "def FahrenheitToCelsius(tempF): #Function Definition\n",
    "\n",
    "    #This function calulates the temperature in celsius given a fahrenheit temperature\n",
    "    tempC = (tempF - 32) * 5/9\n",
    "    print(tempC, \"C\")\n",
    "\n",
    "def CelsiusToFahrenheit(tempC): #Function Definition\n",
    "    #This function calulates the temperature in fahrenheit given a celsius temperature\n",
    "    tempF = tempC*9/5 + 32\n",
    "    print(tempF, \"F\")\n",
    "def FeetToKilometers(feet):\n",
    "    kilometers = feet / 3281\n",
    "    print(kilometers, \"Km\")\n",
    "\n",
    "\n",
    "def main():\n",
    "    tempF = int(input(\"Enter a fahrenheit temperature: \"))\n",
    "    FahrenheitToCelsius(tempF) #Function Call\n",
    "    tempC = int(input(\"Enter a celsius temperature: \"))\n",
    "    CelsiusToFahrenheit(tempC)\n",
    "    feet = int(input(\"Enter the amount of feet: \"))\n",
    "    FeetToKilometers(feet)\n",
    "    \n",
    "    \n",
    "main()\n"
   ]
  },
  {
   "cell_type": "markdown",
   "id": "54e45857-8a4b-4228-8254-02129e2be143",
   "metadata": {},
   "source": [
    "The function call and the function definition for ***FahrenheitToCelsius*** each include a variable within the parentheses. The variable in the function call is known as an ***argument***. The variable in the function definition is called a ***parameter***. \n",
    "\n",
    "7) What is the parameter in the ***FahrenheitToCelsius()*** function definition?"
   ]
  },
  {
   "cell_type": "markdown",
   "id": "685e10cd-a5b0-4dd4-aeff-ea744d7a5f29",
   "metadata": {},
   "source": [
    "tempC"
   ]
  },
  {
   "cell_type": "markdown",
   "id": "d4540d1e-4630-411d-ae25-bce9fc642342",
   "metadata": {},
   "source": [
    "8) What is the purpose of a parameter?"
   ]
  },
  {
   "cell_type": "markdown",
   "id": "09930482-fce0-4311-87a8-94f4fabc028b",
   "metadata": {},
   "source": [
    "so the person can make a input into the code"
   ]
  },
  {
   "cell_type": "markdown",
   "id": "3a6bdd5c-2eac-441b-885d-b81b992459ee",
   "metadata": {},
   "source": [
    "9) The ***parameter*** and the ***argument*** have the same name in this example. Is this required?"
   ]
  },
  {
   "cell_type": "markdown",
   "id": "867da1d3-6823-46b2-828c-8e2731fc9617",
   "metadata": {},
   "source": [
    "no"
   ]
  },
  {
   "cell_type": "markdown",
   "id": "7ea76cbe-639a-4f24-884d-6091f25465c7",
   "metadata": {},
   "source": [
    "10) Copy and paste this code into your program. Verify your answer to 9 by changing the variable in the ***main()*** function from ***tempF*** to ***temperature***. Do not change the parameter variable name in the function definition but make sure you change the argument name in the function call. Does the program still work?"
   ]
  },
  {
   "cell_type": "markdown",
   "id": "ea4fe6f2-41ae-4b26-8fbe-ade7d29284c4",
   "metadata": {},
   "source": [
    "yes"
   ]
  },
  {
   "cell_type": "markdown",
   "id": "7561a5b0-83a7-4f8e-9fe7-6c0ea084855d",
   "metadata": {},
   "source": [
    "11) Write a line of code that calls the ***CelsiusToFahrenheit()*** function with the argument ***tempC***. Paste the line you added below."
   ]
  },
  {
   "cell_type": "markdown",
   "id": "fb8fbcb1-a446-442e-b01f-271f1e34d2f1",
   "metadata": {},
   "source": [
    "celciusToFahrenheit(tempc)"
   ]
  },
  {
   "cell_type": "markdown",
   "id": "28121ea4-cba6-4390-a81d-f221e070e9f4",
   "metadata": {},
   "source": [
    "12) Where did you add the line of code."
   ]
  },
  {
   "cell_type": "markdown",
   "id": "d733fd33-406b-4e99-b360-ded2318a10dd",
   "metadata": {},
   "source": [
    "I added it after you we did the input/in the main()"
   ]
  },
  {
   "cell_type": "markdown",
   "id": "ad91d475-1ee4-401b-879b-a1f3873b8122",
   "metadata": {},
   "source": [
    "13) Create a new function called ***feetToKilometers()*** which takes ***feet*** as a parameter. The conversion from feet to kilometers is $kilometers = feet / 3281$."
   ]
  },
  {
   "cell_type": "markdown",
   "id": "c5f4b2ab-cd3d-4d8e-ab24-0509a82707fb",
   "metadata": {},
   "source": [
    "def FeetToKilometers(feet):\n",
    "    kilometers = feet / 3281\n",
    "    print(kilometers, \"Km\")"
   ]
  },
  {
   "cell_type": "markdown",
   "id": "a260df3e-a93b-4b94-9126-a9bbf1abbbcc",
   "metadata": {},
   "source": [
    "14) Add another line of code in the ***main()*** function that calls the function created in question 13. Paste the line in the textbox below."
   ]
  },
  {
   "cell_type": "markdown",
   "id": "b2bbc1e1-3506-4da5-b3ea-d2201cb99292",
   "metadata": {},
   "source": [
    "feet = int(input(\"Enter the amount of feet: \"))\n",
    "    FeetToKilometers(feet)"
   ]
  },
  {
   "cell_type": "markdown",
   "id": "e3171c7b-8618-489a-a088-bbe4d2500249",
   "metadata": {},
   "source": [
    "15) Try calling the ***feetToKilometers()*** function with no argument. Does it work? If not, what do you need to add to make it work?"
   ]
  },
  {
   "cell_type": "markdown",
   "id": "67b33297-f8d6-4e53-aff5-1996e843150f",
   "metadata": {},
   "source": [
    "no, it does notn work, because you do not have the perameter"
   ]
  },
  {
   "cell_type": "markdown",
   "id": "ef7b10fb-d6e3-4adc-827b-37346121148b",
   "metadata": {},
   "source": [
    "# Part 3: Value Returning Functions\n",
    "\n",
    "Some functions do not send back any information to the line that called the function. This is called a ***void function***. Functions that do send back information are called ***value returning functions***.\n",
    "\n",
    "Now we have four parts of a function: function definitions, function headers, function calls, and function arguments/parameters. We will be adding one last part, ***function returns***. "
   ]
  },
  {
   "cell_type": "code",
   "execution_count": 34,
   "id": "1e0488f9-e576-4c97-b644-e1a667444360",
   "metadata": {},
   "outputs": [],
   "source": [
    "def kilometersToFeet(km):\n",
    "    #add conversion\n",
    "    feet = km/1.61\n",
    "    return feet\n",
    "\n",
    "def main():\n",
    "    feet_distance = kilometersToFeet()\n",
    "\n",
    "main()"
   ]
  },
  {
   "cell_type": "markdown",
   "id": "a9c71dea-5e52-46a6-a67d-3da257365038",
   "metadata": {},
   "source": [
    "16) What is the new keyword used in the function body?"
   ]
  },
  {
   "cell_type": "markdown",
   "id": "8189de57-681f-4ee2-97aa-2006df9f17ea",
   "metadata": {},
   "source": [
    "return"
   ]
  },
  {
   "cell_type": "markdown",
   "id": "a5fe7067-588a-4479-a71b-b69e132789fd",
   "metadata": {},
   "source": [
    "17) What does this new keyword tell the program to do?"
   ]
  },
  {
   "cell_type": "markdown",
   "id": "f88cd79f-ee6f-4bb4-b9cb-a91a3bbc55fa",
   "metadata": {},
   "source": [
    "it tells the program to return a value to the main"
   ]
  },
  {
   "cell_type": "markdown",
   "id": "8959403e-d99b-40af-a2f9-1107b7dfd2a3",
   "metadata": {},
   "source": [
    "18) What line of code calls the function ***kilometersToFeet()***?"
   ]
  },
  {
   "cell_type": "markdown",
   "id": "382ea7ba-950c-411c-94b2-8245389f6724",
   "metadata": {},
   "source": [
    "feet_distance = kilometersToFeet()"
   ]
  },
  {
   "cell_type": "markdown",
   "id": "268e068c-0ae4-4062-9a40-95e7c5e520c4",
   "metadata": {},
   "source": [
    "19) What is different about this line compared to previous void function calls?"
   ]
  },
  {
   "cell_type": "markdown",
   "id": "0286f63b-4848-4034-a3a2-088c1974b316",
   "metadata": {},
   "source": [
    "we have a variable assignment"
   ]
  },
  {
   "cell_type": "markdown",
   "id": "c2138f52-66db-4f23-8b50-1a652646b301",
   "metadata": {},
   "source": [
    "20) Why is the function call on the right side of an assignment statement?"
   ]
  },
  {
   "cell_type": "markdown",
   "id": "cab17d47-adf9-43ac-91e7-bda2ef4580e2",
   "metadata": {},
   "source": [
    "it needs to be in the right order in order to make sense"
   ]
  },
  {
   "cell_type": "markdown",
   "id": "fa7c5b48-f880-4b3c-bbc6-806d93325a65",
   "metadata": {},
   "source": [
    "# Part 4: Write Your Own Function\n",
    "\n",
    "The best way to learn something is through practice. For this you will be creating a function called ***distanceConversion()*** that can convert between distance units.\n",
    "\n",
    "***distanceConversion()*** shall:\n",
    "\n",
    "\n",
    "* have three parameters ***dist*** (int), ***start_unit*** (str), and ***end_unit*** (str)\n",
    "* convert from kilometers to feet\n",
    "* convert from kilometers to miles\n",
    "* convert from feet to kilometers\n",
    "* convert from feet to miles\n",
    "* convert from miles to kilometers\n",
    "* convert from miles to feet\n",
    "* use if/else statements\n",
    "* return the converted distance, ***end_value***"
   ]
  },
  {
   "cell_type": "code",
   "execution_count": 20,
   "id": "b544ca17-469a-4fca-8e78-0c0c02fd5619",
   "metadata": {},
   "outputs": [],
   "source": [
    "def distanceConversion(dist,start_unit,end_unit):\n",
    "    if dist>0 and start_unit == \"ft\"and end_unit==\"ft\":\n",
    "        end_value = dist*1.61\n",
    "        \n",
    "    elif dist>0 and start_unit ==\"km\" and end_unit==\"Mi\":\n",
    "        end_value = dist / 1.61\n",
    "        \n",
    "    elif dist>0 and start_unit ==\"ft\" and end_unit==\"Mi\":\n",
    "        end_value = dist/3281\n",
    "        \n",
    "    elif dist>0 and start_unit ==\"km\" and end_unit==\"ft\":\n",
    "        end_value = dist * 5280\n",
    "        \n",
    "    elif dist>0 and start_unit ==\"mi\" and end_unit==\"ft\":\n",
    "    \n",
    "        end_value = dist * 5280\n",
    "    return end_value\n",
    "\n",
    "def main():\n",
    "    dist=int(input(\"Enter distance: \"))\n",
    "    start_unit=str(input(\"Enter starting unit: \"))\n",
    "    end_unit=str(input(\"Enter ending value: \" ))\n",
    "    distance=distanceConversion(dist, start_value, end_value)\n",
    "    \n",
    "    print(distance,end_value)\n",
    "    \n",
    "\n",
    "\n",
    "    \n",
    "    \n"
   ]
  }
 ],
 "metadata": {
  "kernelspec": {
   "display_name": "Python 3 (ipykernel)",
   "language": "python",
   "name": "python3"
  },
  "language_info": {
   "codemirror_mode": {
    "name": "ipython",
    "version": 3
   },
   "file_extension": ".py",
   "mimetype": "text/x-python",
   "name": "python",
   "nbconvert_exporter": "python",
   "pygments_lexer": "ipython3",
   "version": "3.11.13"
  }
 },
 "nbformat": 4,
 "nbformat_minor": 5
}
